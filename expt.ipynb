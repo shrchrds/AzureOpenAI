{
 "cells": [
  {
   "cell_type": "code",
   "execution_count": 1,
   "metadata": {},
   "outputs": [],
   "source": [
    "import os\n",
    "from openai import AzureOpenAI\n",
    "import json\n",
    "from dotenv import load_dotenv"
   ]
  },
  {
   "cell_type": "code",
   "execution_count": 2,
   "metadata": {},
   "outputs": [
    {
     "data": {
      "text/plain": [
       "True"
      ]
     },
     "execution_count": 2,
     "metadata": {},
     "output_type": "execute_result"
    }
   ],
   "source": [
    "load_dotenv()"
   ]
  },
  {
   "cell_type": "code",
   "execution_count": 3,
   "metadata": {},
   "outputs": [],
   "source": [
    "AZURE_OPENAI_API_KEY=os.getenv(\"AZURE_OPENAI_API_KEY\")\n",
    "\n",
    "client = AzureOpenAI(\n",
    "    api_version=\"2024-02-01\",\n",
    "    azure_endpoint= os.getenv(\"azure_endpoint\"),\n",
    "    api_key=AZURE_OPENAI_API_KEY\n",
    ")"
   ]
  },
  {
   "cell_type": "code",
   "execution_count": 4,
   "metadata": {},
   "outputs": [],
   "source": [
    "completion = client.chat.completions.create(\n",
    "    model=\"gpt-35-turbo\",\n",
    "    messages=[\n",
    "        {\n",
    "            \"role\": \"user\",\n",
    "            \"content\": \"Who is the founder of OpenAI?\",\n",
    "        }\n",
    "    ]\n",
    ")"
   ]
  },
  {
   "cell_type": "code",
   "execution_count": 5,
   "metadata": {},
   "outputs": [
    {
     "data": {
      "text/plain": [
       "ChatCompletion(id='chatcmpl-9Uw4boauGWaNPcU6vukZ4OcukPxvD', choices=[Choice(finish_reason='stop', index=0, logprobs=None, message=ChatCompletionMessage(content='Elon Musk, along with other tech industry leaders such as Sam Altman, Peter Thiel, and Reid Hoffman, founded OpenAI in December 2015.', role='assistant', function_call=None, tool_calls=None), content_filter_results={'hate': {'filtered': False, 'severity': 'safe'}, 'self_harm': {'filtered': False, 'severity': 'safe'}, 'sexual': {'filtered': False, 'severity': 'safe'}, 'violence': {'filtered': False, 'severity': 'safe'}})], created=1717160101, model='gpt-35-turbo', object='chat.completion', system_fingerprint='fp_56b453fc06', usage=CompletionUsage(completion_tokens=33, prompt_tokens=15, total_tokens=48), prompt_filter_results=[{'prompt_index': 0, 'content_filter_results': {'hate': {'filtered': False, 'severity': 'safe'}, 'self_harm': {'filtered': False, 'severity': 'safe'}, 'sexual': {'filtered': False, 'severity': 'safe'}, 'violence': {'filtered': False, 'severity': 'safe'}}}])"
      ]
     },
     "execution_count": 5,
     "metadata": {},
     "output_type": "execute_result"
    }
   ],
   "source": [
    "completion"
   ]
  },
  {
   "cell_type": "code",
   "execution_count": 14,
   "metadata": {},
   "outputs": [],
   "source": [
    "json_response = completion.to_json()"
   ]
  },
  {
   "cell_type": "code",
   "execution_count": 18,
   "metadata": {},
   "outputs": [
    {
     "data": {
      "text/plain": [
       "'{\\n  \"id\": \"chatcmpl-9Uw4boauGWaNPcU6vukZ4OcukPxvD\",\\n  \"choices\": [\\n    {\\n      \"finish_reason\": \"stop\",\\n      \"index\": 0,\\n      \"message\": {\\n        \"content\": \"Elon Musk, along with other tech industry leaders such as Sam Altman, Peter Thiel, and Reid Hoffman, founded OpenAI in December 2015.\",\\n        \"role\": \"assistant\"\\n      },\\n      \"content_filter_results\": {\\n        \"hate\": {\\n          \"filtered\": false,\\n          \"severity\": \"safe\"\\n        },\\n        \"self_harm\": {\\n          \"filtered\": false,\\n          \"severity\": \"safe\"\\n        },\\n        \"sexual\": {\\n          \"filtered\": false,\\n          \"severity\": \"safe\"\\n        },\\n        \"violence\": {\\n          \"filtered\": false,\\n          \"severity\": \"safe\"\\n        }\\n      }\\n    }\\n  ],\\n  \"created\": 1717160101,\\n  \"model\": \"gpt-35-turbo\",\\n  \"object\": \"chat.completion\",\\n  \"system_fingerprint\": \"fp_56b453fc06\",\\n  \"usage\": {\\n    \"completion_tokens\": 33,\\n    \"prompt_tokens\": 15,\\n    \"total_tokens\": 48\\n  },\\n  \"prompt_filter_results\": [\\n    {\\n      \"prompt_index\": 0,\\n      \"content_filter_results\": {\\n        \"hate\": {\\n          \"filtered\": false,\\n          \"severity\": \"safe\"\\n        },\\n        \"self_harm\": {\\n          \"filtered\": false,\\n          \"severity\": \"safe\"\\n        },\\n        \"sexual\": {\\n          \"filtered\": false,\\n          \"severity\": \"safe\"\\n        },\\n        \"violence\": {\\n          \"filtered\": false,\\n          \"severity\": \"safe\"\\n        }\\n      }\\n    }\\n  ]\\n}'"
      ]
     },
     "execution_count": 18,
     "metadata": {},
     "output_type": "execute_result"
    }
   ],
   "source": [
    "json_response"
   ]
  },
  {
   "cell_type": "code",
   "execution_count": 25,
   "metadata": {},
   "outputs": [],
   "source": [
    "response_dict = json.loads(completion.to_json())"
   ]
  },
  {
   "cell_type": "code",
   "execution_count": 20,
   "metadata": {},
   "outputs": [
    {
     "data": {
      "text/plain": [
       "{'id': 'chatcmpl-9Uw4boauGWaNPcU6vukZ4OcukPxvD',\n",
       " 'choices': [{'finish_reason': 'stop',\n",
       "   'index': 0,\n",
       "   'message': {'content': 'Elon Musk, along with other tech industry leaders such as Sam Altman, Peter Thiel, and Reid Hoffman, founded OpenAI in December 2015.',\n",
       "    'role': 'assistant'},\n",
       "   'content_filter_results': {'hate': {'filtered': False, 'severity': 'safe'},\n",
       "    'self_harm': {'filtered': False, 'severity': 'safe'},\n",
       "    'sexual': {'filtered': False, 'severity': 'safe'},\n",
       "    'violence': {'filtered': False, 'severity': 'safe'}}}],\n",
       " 'created': 1717160101,\n",
       " 'model': 'gpt-35-turbo',\n",
       " 'object': 'chat.completion',\n",
       " 'system_fingerprint': 'fp_56b453fc06',\n",
       " 'usage': {'completion_tokens': 33, 'prompt_tokens': 15, 'total_tokens': 48},\n",
       " 'prompt_filter_results': [{'prompt_index': 0,\n",
       "   'content_filter_results': {'hate': {'filtered': False, 'severity': 'safe'},\n",
       "    'self_harm': {'filtered': False, 'severity': 'safe'},\n",
       "    'sexual': {'filtered': False, 'severity': 'safe'},\n",
       "    'violence': {'filtered': False, 'severity': 'safe'}}}]}"
      ]
     },
     "execution_count": 20,
     "metadata": {},
     "output_type": "execute_result"
    }
   ],
   "source": [
    "response_dict"
   ]
  },
  {
   "cell_type": "code",
   "execution_count": 24,
   "metadata": {},
   "outputs": [
    {
     "data": {
      "text/plain": [
       "'Elon Musk, along with other tech industry leaders such as Sam Altman, Peter Thiel, and Reid Hoffman, founded OpenAI in December 2015.'"
      ]
     },
     "execution_count": 24,
     "metadata": {},
     "output_type": "execute_result"
    }
   ],
   "source": [
    "response_dict['choices'][0]['message']['content']"
   ]
  },
  {
   "cell_type": "code",
   "execution_count": null,
   "metadata": {},
   "outputs": [],
   "source": []
  }
 ],
 "metadata": {
  "kernelspec": {
   "display_name": "azure_env",
   "language": "python",
   "name": "python3"
  },
  "language_info": {
   "codemirror_mode": {
    "name": "ipython",
    "version": 3
   },
   "file_extension": ".py",
   "mimetype": "text/x-python",
   "name": "python",
   "nbconvert_exporter": "python",
   "pygments_lexer": "ipython3",
   "version": "3.10.14"
  }
 },
 "nbformat": 4,
 "nbformat_minor": 2
}
